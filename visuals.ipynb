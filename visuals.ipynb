{
 "cells": [
  {
   "cell_type": "code",
   "execution_count": 1,
   "metadata": {},
   "outputs": [],
   "source": [
    "import pandas as pd\n",
    "from country_cleaner import country_clean\n",
    "import numpy as np\n",
    "import matplotlib\n",
    "import matplotlib.pyplot as plt\n",
    "import seaborn as sns\n",
    "\n",
    "from ipywidgets import widgets, interactive"
   ]
  },
  {
   "cell_type": "code",
   "execution_count": 2,
   "metadata": {},
   "outputs": [],
   "source": [
    "easd_df = pd.read_csv(\"Input_Data/educational_attainment_supplementary_data.csv\")\n",
    "\n",
    "easd_df = easd_df[easd_df[\"Keep or not\"] == 1]\n",
    "\n",
    "cols_to_keep = [\"country_name\", \"series_name\", \"1985\", \"1990\", \"1995\", \"2000\", \"2005\", \"2010\"]\n",
    "easd_df.drop(columns=[col for col in easd_df if col not in cols_to_keep], inplace=True)\n",
    "\n",
    "easd_df['country_name'] = easd_df['country_name'].apply(lambda x: country_clean(x))\n"
   ]
  },
  {
   "cell_type": "code",
   "execution_count": 3,
   "metadata": {},
   "outputs": [],
   "source": [
    "barro_lee_ser = ['Barro-Lee: Average years of total schooling, age 15+, female', 'Barro-Lee: Average years of total schooling, age 15+, total', 'Barro-Lee: Average years of total schooling, age 25+, female', 'Barro-Lee: Average years of total schooling, age 25+, total', 'Barro-Lee: Percentage of population age 15+ with no education', 'Barro-Lee: Percentage of population age 25+ with no education']\n",
    "\n",
    "barro_lee_df = easd_df[easd_df['series_name'].isin(barro_lee_ser)]\n",
    "barro_lee_df.dropna(axis=0, thresh=6, inplace=True)\n",
    "\n",
    "\n",
    "countries = barro_lee_df['country_name'].unique()\n",
    "categories = ['Average years of total schooling, age 15+', 'Average years of total schooling, age 25+', 'Percent of population with no schooling, age 15+', 'Percent of population with no schooling, age 25+']\n",
    "category_matcher = {'Average years of total schooling, age 15+': ['Barro-Lee: Average years of total schooling, age 15+, female', 'Barro-Lee: Average years of total schooling, age 15+, total'], 'Average years of total schooling, age 25+':['Barro-Lee: Average years of total schooling, age 25+, female', 'Barro-Lee: Average years of total schooling, age 25+, total'], 'Percent of population with no schooling, age 15+':['Barro-Lee: Percentage of population age 15+ with no education'], 'Percent of population with no schooling, age 25+': ['Barro-Lee: Percentage of population age 25+ with no education']}"
   ]
  },
  {
   "cell_type": "code",
   "execution_count": 4,
   "metadata": {},
   "outputs": [],
   "source": [
    "country_dropdown = widgets.Dropdown(options=list(countries), description=\"Country: \")\n",
    "category_dropdown = widgets.Dropdown(options=categories, description=\"Category: \")\n",
    "\n",
    "def plot_barro(country, category):\n",
    "    df = barro_lee_df.copy()\n",
    "\n",
    "    #Filter country\n",
    "    df = df[df['country_name']==country]\n",
    "\n",
    "    #Filter category\n",
    "    chosen_categories = category_matcher[category]\n",
    "    df = df[df['series_name'].isin(chosen_categories)]\n",
    "    df.reset_index(drop=True, inplace=True)\n",
    "    df.drop(['country_name'], axis=1, inplace=True)\n",
    "    df.set_index('series_name', inplace=True)\n",
    "\n",
    "    plot_df = df.T\n",
    "\n",
    "    for cat in chosen_categories:\n",
    "        plt.plot([\"1985\", \"1990\", \"1995\", \"2000\", \"2005\", \"2010\"], cat, data=plot_df, label=cat)\n",
    "    \n",
    "    plt.legend()\n",
    "    plt.show()\n",
    "\n",
    "    return "
   ]
  },
  {
   "cell_type": "code",
   "execution_count": 5,
   "metadata": {},
   "outputs": [
    {
     "data": {
      "application/vnd.jupyter.widget-view+json": {
       "model_id": "5b8b8fc682544e3191be19d64798c293",
       "version_major": 2,
       "version_minor": 0
      },
      "text/plain": [
       "interactive(children=(Dropdown(description='Country: ', options=('Afghanistan', 'Albania', 'Algeria', 'Argenti…"
      ]
     },
     "metadata": {},
     "output_type": "display_data"
    }
   ],
   "source": [
    "interactive(plot_barro, country=country_dropdown, category=category_dropdown)"
   ]
  }
 ],
 "metadata": {
  "interpreter": {
   "hash": "923cebfb920628381087d3666d168be8ed0d4d70535851cbffd40121bcb5137e"
  },
  "kernelspec": {
   "display_name": "Python 3.8.3 64-bit ('py3env': conda)",
   "language": "python",
   "name": "python3"
  },
  "language_info": {
   "codemirror_mode": {
    "name": "ipython",
    "version": 3
   },
   "file_extension": ".py",
   "mimetype": "text/x-python",
   "name": "python",
   "nbconvert_exporter": "python",
   "pygments_lexer": "ipython3",
   "version": "3.8.3"
  },
  "orig_nbformat": 4
 },
 "nbformat": 4,
 "nbformat_minor": 2
}
