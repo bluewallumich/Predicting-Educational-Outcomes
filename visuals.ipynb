{
 "cells": [
  {
   "cell_type": "code",
   "execution_count": 1,
   "metadata": {},
   "outputs": [],
   "source": [
    "import pandas as pd\n",
    "from country_cleaner import country_clean\n",
    "import numpy as np\n",
    "import matplotlib\n",
    "import matplotlib.pyplot as plt\n",
    "import seaborn as sns\n",
    "\n",
    "from ipywidgets import widgets, interactive"
   ]
  },
  {
   "cell_type": "code",
   "execution_count": 2,
   "metadata": {},
   "outputs": [],
   "source": [
    "easd_df = pd.read_csv(\"Input_Data/educational_attainment_supplementary_data.csv\")\n",
    "\n",
    "easd_df = easd_df[easd_df[\"Keep or not\"] == 1]\n",
    "\n",
    "cols_to_keep = [\"country_name\", \"series_name\", \"1985\", \"1990\", \"1995\", \"2000\", \"2005\", \"2010\"]\n",
    "easd_df.drop(columns=[col for col in easd_df if col not in cols_to_keep], inplace=True)\n",
    "\n",
    "easd_df['country_name'] = easd_df['country_name'].apply(lambda x: country_clean(x))\n"
   ]
  },
  {
   "cell_type": "code",
   "execution_count": 3,
   "metadata": {},
   "outputs": [
    {
     "name": "stderr",
     "output_type": "stream",
     "text": [
      "<ipython-input-3-23c15c70b030>:4: SettingWithCopyWarning: \n",
      "A value is trying to be set on a copy of a slice from a DataFrame\n",
      "\n",
      "See the caveats in the documentation: https://pandas.pydata.org/pandas-docs/stable/user_guide/indexing.html#returning-a-view-versus-a-copy\n",
      "  barro_lee_df.dropna(axis=0, thresh=6, inplace=True)\n"
     ]
    }
   ],
   "source": [
    "barro_lee_ser = ['Barro-Lee: Average years of total schooling, age 15+, female', 'Barro-Lee: Average years of total schooling, age 15+, total', 'Barro-Lee: Average years of total schooling, age 25+, female', 'Barro-Lee: Average years of total schooling, age 25+, total', 'Barro-Lee: Percentage of population age 15+ with no education', 'Barro-Lee: Percentage of population age 25+ with no education']\n",
    "\n",
    "barro_lee_df = easd_df[easd_df['series_name'].isin(barro_lee_ser)]\n",
    "barro_lee_df.dropna(axis=0, thresh=6, inplace=True)\n",
    "\n",
    "\n",
    "countries = barro_lee_df['country_name'].unique()\n",
    "categories = ['Average years of total schooling, age 15+', 'Average years of total schooling, age 25+', 'Percent of population with no education']\n",
    "category_matcher = {'Average years of total schooling, age 15+': ['Barro-Lee: Average years of total schooling, age 15+, female', 'Barro-Lee: Average years of total schooling, age 15+, total'], 'Average years of total schooling, age 25+':['Barro-Lee: Average years of total schooling, age 25+, female', 'Barro-Lee: Average years of total schooling, age 25+, total'], 'Percent of population with no education':['Barro-Lee: Percentage of population age 15+ with no education', 'Barro-Lee: Percentage of population age 25+ with no education']}"
   ]
  },
  {
   "cell_type": "code",
   "execution_count": 4,
   "metadata": {},
   "outputs": [],
   "source": [
    "country_dropdown = widgets.Dropdown(options=list(countries), description=\"Country: \")\n",
    "category_dropdown = widgets.Dropdown(options=categories, description=\"Category: \")\n",
    "\n",
    "def plot_barro(country, category):\n",
    "    df = barro_lee_df.copy()\n",
    "\n",
    "    #Filter country\n",
    "    df = df[df['country_name']==country]\n",
    "\n",
    "    #Filter category\n",
    "    chosen_categories = category_matcher[category]\n",
    "    df = df[df['series_name'].isin(chosen_categories)]\n",
    "    df.reset_index(drop=True, inplace=True)\n",
    "    df.drop(['country_name'], axis=1, inplace=True)\n",
    "    df.set_index('series_name', inplace=True)\n",
    "\n",
    "    plot_df = df.T\n",
    "\n",
    "    for cat in chosen_categories:\n",
    "        plt.plot([\"1985\", \"1990\", \"1995\", \"2000\", \"2005\", \"2010\"], cat, data=plot_df, label=cat)\n",
    "    \n",
    "    plt.legend()\n",
    "    plt.show()\n",
    "\n",
    "    return "
   ]
  },
  {
   "cell_type": "code",
   "execution_count": 5,
   "metadata": {},
   "outputs": [
    {
     "data": {
      "application/vnd.jupyter.widget-view+json": {
       "model_id": "9d63cf2b677143f1919f95811473593f",
       "version_major": 2,
       "version_minor": 0
      },
      "text/plain": [
       "interactive(children=(Dropdown(description='Country: ', options=('Afghanistan', 'Albania', 'Algeria', 'Argenti…"
      ]
     },
     "metadata": {},
     "output_type": "display_data"
    }
   ],
   "source": [
    "interactive(plot_barro, country=country_dropdown, category=category_dropdown)"
   ]
  },
  {
   "cell_type": "code",
   "execution_count": 6,
   "metadata": {},
   "outputs": [],
   "source": [
    "cwur_df = pd.read_csv(\"Input_Data/cwurData.csv\")\n",
    "\n",
    "cwur_df['country'] = cwur_df['country'].apply(lambda x: country_clean(x))\n",
    "\n",
    "world_rank_by_country = cwur_df[['world_rank', 'country', 'year']]\n"
   ]
  },
  {
   "cell_type": "code",
   "execution_count": 7,
   "metadata": {},
   "outputs": [],
   "source": [
    "cutoff_widget = widgets.IntSlider(value=100, min = 50, max=400, step=50, description = 'Top # Colleges', disabled=False)\n",
    "year_widget = widgets.IntSlider(value=2012, min=2012, max=2015, step=1, description = 'Year', disabled=False)\n",
    "\n",
    "def top_country_chart(cutoff, year):\n",
    "    world_ranks = world_rank_by_country[world_rank_by_country['year'] == year]\n",
    "    top_chart = world_ranks.head(cutoff)\n",
    "    counts = top_chart.groupby('country').size()\n",
    "\n",
    "    return counts.plot.barh()"
   ]
  },
  {
   "cell_type": "code",
   "execution_count": 8,
   "metadata": {},
   "outputs": [
    {
     "data": {
      "application/vnd.jupyter.widget-view+json": {
       "model_id": "b14412287fec40ee9a7e088a7cc698aa",
       "version_major": 2,
       "version_minor": 0
      },
      "text/plain": [
       "interactive(children=(IntSlider(value=100, description='Top # Colleges', max=400, min=50, step=50), IntSlider(…"
      ]
     },
     "metadata": {},
     "output_type": "display_data"
    }
   ],
   "source": [
    "interactive(top_country_chart, cutoff = cutoff_widget, year = year_widget)"
   ]
  },
  {
   "cell_type": "code",
   "execution_count": null,
   "metadata": {},
   "outputs": [],
   "source": []
  }
 ],
 "metadata": {
  "interpreter": {
   "hash": "923cebfb920628381087d3666d168be8ed0d4d70535851cbffd40121bcb5137e"
  },
  "kernelspec": {
   "display_name": "Python 3.8.3 64-bit ('py3env': conda)",
   "language": "python",
   "name": "python3"
  },
  "language_info": {
   "codemirror_mode": {
    "name": "ipython",
    "version": 3
   },
   "file_extension": ".py",
   "mimetype": "text/x-python",
   "name": "python",
   "nbconvert_exporter": "python",
   "pygments_lexer": "ipython3",
   "version": "3.8.3"
  },
  "orig_nbformat": 4
 },
 "nbformat": 4,
 "nbformat_minor": 2
}
