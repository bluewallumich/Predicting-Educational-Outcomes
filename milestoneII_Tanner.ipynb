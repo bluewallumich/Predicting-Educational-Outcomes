import re
import requests
import pandas as pd
import numpy as np

df = pd.read_csv('education_expenditure_supplementary_data.csv')#Public and private direct expenditures on education institutions as a percentage of gross domestic product
df1 = pd.read_csv('educational_attainment_supplementary_data.csv')
df2 = pd.read_csv('school_and_country_table.csv')
df3 = pd.read_csv('shanghaiData.csv')
df4 = pd.read_csv('timesData.csv')
df_GDP = pd.read_csv('GDP.csv')

df_GDP.rename({'Country Name': 'country'}, axis=1, inplace=True)
df_GDP.head(5)

df[['1995','2000','2005','2009','2010','2011']] = df[['1995','2000','2005','2009','2010','2011']]/100
df.head()


#print(df_GDP.dtypes)
new = df.merge(df_GDP, on='country', how='left')
new['institute_type'] = new['institute_type'].str.strip()
new['direct_expenditure_type'] = new['direct_expenditure_type'].str.strip()

new1 = new[new['direct_expenditure_type']== 'Public']
new1 = new1[new1['institute_type']=='Higher Education Institutions']

new1.reset_index(inplace=True, drop = True)
new1.head(1000)
new1['2011_expenditures'] = round(new1['2011_x'] * new1['2011_y'],2)
new1 = new1.dropna()
new1['2011_y'] = new1['2011_y'].astype(int)
print(new1['2011_y'].dtypes)
#print(new1['direct_expenditure_type'].unique())
new1.describe()
