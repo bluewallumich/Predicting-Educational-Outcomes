{
 "cells": [
  {
   "cell_type": "code",
   "execution_count": 20,
   "metadata": {},
   "outputs": [
    {
     "data": {
      "text/plain": [
       "(1213,\n",
       " country                    False\n",
       " institute_type             False\n",
       " direct_expenditure_type    False\n",
       " 1995                        True\n",
       " 2000                        True\n",
       " 2005                        True\n",
       " 2009                        True\n",
       " 2010                        True\n",
       " 2011                        True\n",
       " dtype: bool,\n",
       " (333, 9))"
      ]
     },
     "execution_count": 20,
     "metadata": {},
     "output_type": "execute_result"
    }
   ],
   "source": [
    "import pandas as pd\n",
    "\n",
    "\n",
    "\n",
    "def Clean(data):\n",
    "    if data == eesd:\n",
    "        new_df = pd.read_csv(data)\n",
    "    else:\n",
    "        new_df = pd.read_csv(data)\n",
    "        \n",
    "    shape_df= new_df.shape\n",
    "    head_df = new_df.head(5)\n",
    "    Nans=new_df.isna().sum().sum() \n",
    "    what_nans=new_df.isna().any()\n",
    "\n",
    "    return Nans,what_nans,shape_df\n",
    "cwurData = \"Input_Data/cwurData.csv\" ##200 Nans in broad_impact column, 2200 rows/14 columns\n",
    "eesd = \"Input_Data/education_expenditure_supplementary_data.csv\"##This might be a bad file but got it to work.\n",
    "easd = \"Input_Data/educational_attainment_supplementary_data.csv\"\n",
    "sact = \"Input_Data/school_and_country_table.csv\"\n",
    "sd = \"Input_Data/shanghaiData.csv\"\n",
    "td = \"Input_Data/timesData.csv\"\n",
    "\n",
    "Clean(eesd)"
   ]
  },
  {
   "cell_type": "code",
   "execution_count": null,
   "metadata": {},
   "outputs": [],
   "source": []
  }
 ],
 "metadata": {
  "interpreter": {
   "hash": "b3ba2566441a7c06988d0923437866b63cedc61552a5af99d1f4fb67d367b25f"
  },
  "kernelspec": {
   "display_name": "Python 3.9.7 64-bit ('base': conda)",
   "language": "python",
   "name": "python3"
  },
  "language_info": {
   "codemirror_mode": {
    "name": "ipython",
    "version": 3
   },
   "file_extension": ".py",
   "mimetype": "text/x-python",
   "name": "python",
   "nbconvert_exporter": "python",
   "pygments_lexer": "ipython3",
   "version": "3.9.7"
  },
  "orig_nbformat": 4
 },
 "nbformat": 4,
 "nbformat_minor": 2
}
