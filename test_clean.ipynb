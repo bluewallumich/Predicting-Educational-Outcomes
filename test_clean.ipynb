{
 "cells": [
  {
   "cell_type": "code",
   "execution_count": 5,
   "metadata": {},
   "outputs": [
    {
     "data": {
      "text/plain": [
       "(418,\n",
       " world_rank                False\n",
       " university_name           False\n",
       " country                   False\n",
       " teaching                  False\n",
       " international             False\n",
       " research                  False\n",
       " citations                 False\n",
       " income                    False\n",
       " total_score               False\n",
       " num_students               True\n",
       " student_staff_ratio        True\n",
       " international_students     True\n",
       " female_male_ratio          True\n",
       " year                      False\n",
       " dtype: bool,\n",
       " (2603, 14))"
      ]
     },
     "execution_count": 5,
     "metadata": {},
     "output_type": "execute_result"
    }
   ],
   "source": [
    "import pandas as pd\n",
    "\n",
    "\n",
    "\n",
    "def Clean(data):\n",
    "    if data == eesd:\n",
    "        new_df = pd.read_csv(data)\n",
    "    else:\n",
    "        new_df = pd.read_csv(data)\n",
    "        \n",
    "    shape_df= new_df.shape\n",
    "    head_df = new_df.head(5)\n",
    "    Nans=new_df.isna().sum().sum() \n",
    "    what_nans=new_df.isna().any()\n",
    "\n",
    "    return Nans,what_nans,shape_df\n",
    "cwurData = \"Input_Data/cwurData.csv\" ##200 Nans in broad_impact column, 2200 rows/14 columns\n",
    "\n",
    "eesd = \"Input_Data/education_expenditure_supplementary_data.csv\"##This file is broken but works.  ##1213 Nans, all years have nan values\n",
    "##333 rows/9 columns\n",
    "\n",
    "easd = \"Input_Data/educational_attainment_supplementary_data.csv\"##1816203 Nans, All columns have Nans,79005 rows/29 columns\n",
    "sact = \"Input_Data/school_and_country_table.csv\"##0 Nans,  818 rows/2 columns\n",
    "sd = \"Input_Data/shanghaiData.csv\"##3829 Nans, world_rank and year only columns w/out nan, 4897 rows, 11 columns\n",
    "td = \"Input_Data/timesData.csv\"##418 Nans, 4 columns have Nans, 2603 rows, 14 columns\n",
    "\n",
    "Clean(td)\n"
   ]
  },
  {
   "cell_type": "code",
   "execution_count": null,
   "metadata": {},
   "outputs": [],
   "source": []
  }
 ],
 "metadata": {
  "interpreter": {
   "hash": "b3ba2566441a7c06988d0923437866b63cedc61552a5af99d1f4fb67d367b25f"
  },
  "kernelspec": {
   "display_name": "Python 3.9.7 64-bit ('base': conda)",
   "language": "python",
   "name": "python3"
  },
  "language_info": {
   "codemirror_mode": {
    "name": "ipython",
    "version": 3
   },
   "file_extension": ".py",
   "mimetype": "text/x-python",
   "name": "python",
   "nbconvert_exporter": "python",
   "pygments_lexer": "ipython3",
   "version": "3.9.7"
  },
  "orig_nbformat": 4
 },
 "nbformat": 4,
 "nbformat_minor": 2
}
