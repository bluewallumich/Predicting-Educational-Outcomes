{
 "cells": [
  {
   "cell_type": "code",
   "execution_count": 3,
   "metadata": {},
   "outputs": [
    {
     "data": {
      "text/plain": [
       "0         NaN\n",
       "1         NaN\n",
       "2         NaN\n",
       "3         NaN\n",
       "4         NaN\n",
       "        ...  \n",
       "2195    969.0\n",
       "2196    981.0\n",
       "2197    975.0\n",
       "2198    975.0\n",
       "2199    981.0\n",
       "Name: broad_impact, Length: 2200, dtype: float64"
      ]
     },
     "execution_count": 3,
     "metadata": {},
     "output_type": "execute_result"
    }
   ],
   "source": [
    "import pandas as pd\n",
    "\n",
    "cw_df = pd.read_csv(\"Input_Data/cwurData.csv\")\n",
    "#cw_df.shape  ##2200 rows 14 columns\n",
    "\n",
    "cwhead_df = cw_df.head(5)\n",
    "Nans=cw_df.isna().sum().sum() #200 nans  ##assumed that first 200 in broad_impact column are nan\n",
    "heads=cw_df.head(205)\n",
    "\n",
    "Nans\n",
    "what_nans=cw_df.isna().any()\n",
    "what_nans\n",
    "cw_df.broad_impact"
   ]
  },
  {
   "cell_type": "code",
   "execution_count": null,
   "metadata": {},
   "outputs": [],
   "source": []
  }
 ],
 "metadata": {
  "interpreter": {
   "hash": "b3ba2566441a7c06988d0923437866b63cedc61552a5af99d1f4fb67d367b25f"
  },
  "kernelspec": {
   "display_name": "Python 3.9.7 64-bit ('base': conda)",
   "language": "python",
   "name": "python3"
  },
  "language_info": {
   "codemirror_mode": {
    "name": "ipython",
    "version": 3
   },
   "file_extension": ".py",
   "mimetype": "text/x-python",
   "name": "python",
   "nbconvert_exporter": "python",
   "pygments_lexer": "ipython3",
   "version": "3.9.7"
  },
  "orig_nbformat": 4
 },
 "nbformat": 4,
 "nbformat_minor": 2
}
